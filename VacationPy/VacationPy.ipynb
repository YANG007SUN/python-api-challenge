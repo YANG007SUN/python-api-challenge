{
 "cells": [
  {
   "cell_type": "code",
   "execution_count": 3,
   "metadata": {},
   "outputs": [],
   "source": [
    "import gmaps\n",
    "import pandas as pd\n",
    "import requests\n",
    "import json\n",
    "from config import (gkey, weather_api_key)"
   ]
  },
  {
   "cell_type": "code",
   "execution_count": 2,
   "metadata": {},
   "outputs": [
    {
     "data": {
      "text/html": [
       "<div>\n",
       "<style scoped>\n",
       "    .dataframe tbody tr th:only-of-type {\n",
       "        vertical-align: middle;\n",
       "    }\n",
       "\n",
       "    .dataframe tbody tr th {\n",
       "        vertical-align: top;\n",
       "    }\n",
       "\n",
       "    .dataframe thead th {\n",
       "        text-align: right;\n",
       "    }\n",
       "</style>\n",
       "<table border=\"1\" class=\"dataframe\">\n",
       "  <thead>\n",
       "    <tr style=\"text-align: right;\">\n",
       "      <th></th>\n",
       "      <th>City</th>\n",
       "      <th>Country</th>\n",
       "      <th>Lat</th>\n",
       "      <th>Lng</th>\n",
       "      <th>Temperature (F)</th>\n",
       "      <th>Humidity</th>\n",
       "      <th>Cloudiness</th>\n",
       "      <th>Wind Speed</th>\n",
       "      <th>Hemisphere</th>\n",
       "    </tr>\n",
       "  </thead>\n",
       "  <tbody>\n",
       "    <tr>\n",
       "      <th>0</th>\n",
       "      <td>Fedorovskoye</td>\n",
       "      <td>RU</td>\n",
       "      <td>58.82</td>\n",
       "      <td>42.54</td>\n",
       "      <td>51.15</td>\n",
       "      <td>96</td>\n",
       "      <td>50</td>\n",
       "      <td>3.76</td>\n",
       "      <td>Northern</td>\n",
       "    </tr>\n",
       "    <tr>\n",
       "      <th>1</th>\n",
       "      <td>Willofs</td>\n",
       "      <td>DE</td>\n",
       "      <td>47.88</td>\n",
       "      <td>10.43</td>\n",
       "      <td>44.55</td>\n",
       "      <td>81</td>\n",
       "      <td>26</td>\n",
       "      <td>3.36</td>\n",
       "      <td>Northern</td>\n",
       "    </tr>\n",
       "    <tr>\n",
       "      <th>2</th>\n",
       "      <td>Nola</td>\n",
       "      <td>IT</td>\n",
       "      <td>40.92</td>\n",
       "      <td>14.53</td>\n",
       "      <td>55.96</td>\n",
       "      <td>50</td>\n",
       "      <td>0</td>\n",
       "      <td>5.30</td>\n",
       "      <td>Northern</td>\n",
       "    </tr>\n",
       "    <tr>\n",
       "      <th>3</th>\n",
       "      <td>Świątniki Górne</td>\n",
       "      <td>PL</td>\n",
       "      <td>49.93</td>\n",
       "      <td>19.95</td>\n",
       "      <td>40.87</td>\n",
       "      <td>93</td>\n",
       "      <td>31</td>\n",
       "      <td>3.36</td>\n",
       "      <td>Northern</td>\n",
       "    </tr>\n",
       "    <tr>\n",
       "      <th>4</th>\n",
       "      <td>Corella</td>\n",
       "      <td>PH</td>\n",
       "      <td>9.69</td>\n",
       "      <td>123.92</td>\n",
       "      <td>82.40</td>\n",
       "      <td>83</td>\n",
       "      <td>20</td>\n",
       "      <td>2.24</td>\n",
       "      <td>Northern</td>\n",
       "    </tr>\n",
       "  </tbody>\n",
       "</table>\n",
       "</div>"
      ],
      "text/plain": [
       "              City Country    Lat     Lng  Temperature (F)  Humidity  \\\n",
       "0     Fedorovskoye      RU  58.82   42.54            51.15        96   \n",
       "1          Willofs      DE  47.88   10.43            44.55        81   \n",
       "2             Nola      IT  40.92   14.53            55.96        50   \n",
       "3  Świątniki Górne      PL  49.93   19.95            40.87        93   \n",
       "4          Corella      PH   9.69  123.92            82.40        83   \n",
       "\n",
       "   Cloudiness  Wind Speed Hemisphere  \n",
       "0          50        3.76   Northern  \n",
       "1          26        3.36   Northern  \n",
       "2           0        5.30   Northern  \n",
       "3          31        3.36   Northern  \n",
       "4          20        2.24   Northern  "
      ]
     },
     "execution_count": 2,
     "metadata": {},
     "output_type": "execute_result"
    }
   ],
   "source": [
    "weather_df = pd.read_csv(\"../Resources/weather_data.csv\")\n",
    "weather_df.head()"
   ]
  },
  {
   "cell_type": "code",
   "execution_count": 48,
   "metadata": {},
   "outputs": [
    {
     "data": {
      "application/vnd.jupyter.widget-view+json": {
       "model_id": "9e093c82e6dd47d581ae419c2fd6698d",
       "version_major": 2,
       "version_minor": 0
      },
      "text/plain": [
       "Figure(layout=FigureLayout(height='420px'))"
      ]
     },
     "metadata": {},
     "output_type": "display_data"
    }
   ],
   "source": [
    "# heatmap display the intensity of humidity from weather dataframe\n",
    "gmaps.configure(api_key=gkey)\n",
    "humidity = weather_df[\"Humidity\"]\n",
    "coord = [(row[2],row[3]) for index, row in weather_df.iterrows()]\n",
    "\n",
    "\n",
    "#====================================================================================\n",
    "fig = gmaps.figure()\n",
    "hummid_layer = gmaps.heatmap_layer(coord, weights=humidity,dissipating= False, \n",
    "                                   max_intensity=max(humidity), point_radius=1)\n",
    "fig.add_layer(hummid_layer)\n",
    "fig\n",
    "#====================================================================================\n",
    "\n"
   ]
  },
  {
   "cell_type": "code",
   "execution_count": 49,
   "metadata": {},
   "outputs": [
    {
     "data": {
      "text/html": [
       "<div>\n",
       "<style scoped>\n",
       "    .dataframe tbody tr th:only-of-type {\n",
       "        vertical-align: middle;\n",
       "    }\n",
       "\n",
       "    .dataframe tbody tr th {\n",
       "        vertical-align: top;\n",
       "    }\n",
       "\n",
       "    .dataframe thead th {\n",
       "        text-align: right;\n",
       "    }\n",
       "</style>\n",
       "<table border=\"1\" class=\"dataframe\">\n",
       "  <thead>\n",
       "    <tr style=\"text-align: right;\">\n",
       "      <th></th>\n",
       "      <th>City</th>\n",
       "      <th>Country</th>\n",
       "      <th>Lat</th>\n",
       "      <th>Lng</th>\n",
       "      <th>Temperature (F)</th>\n",
       "      <th>Humidity</th>\n",
       "      <th>Cloudiness</th>\n",
       "      <th>Wind Speed</th>\n",
       "      <th>Hemisphere</th>\n",
       "    </tr>\n",
       "  </thead>\n",
       "  <tbody>\n",
       "    <tr>\n",
       "      <th>25</th>\n",
       "      <td>Zhenkou</td>\n",
       "      <td>CN</td>\n",
       "      <td>27.40</td>\n",
       "      <td>116.34</td>\n",
       "      <td>77.22</td>\n",
       "      <td>87</td>\n",
       "      <td>3</td>\n",
       "      <td>6.82</td>\n",
       "      <td>Northern</td>\n",
       "    </tr>\n",
       "    <tr>\n",
       "      <th>27</th>\n",
       "      <td>Jaykaynagar</td>\n",
       "      <td>IN</td>\n",
       "      <td>23.68</td>\n",
       "      <td>86.98</td>\n",
       "      <td>81.97</td>\n",
       "      <td>74</td>\n",
       "      <td>0</td>\n",
       "      <td>8.12</td>\n",
       "      <td>Northern</td>\n",
       "    </tr>\n",
       "    <tr>\n",
       "      <th>60</th>\n",
       "      <td>Wakīl Rustam Kêlay</td>\n",
       "      <td>AF</td>\n",
       "      <td>31.45</td>\n",
       "      <td>65.29</td>\n",
       "      <td>71.60</td>\n",
       "      <td>26</td>\n",
       "      <td>1</td>\n",
       "      <td>3.36</td>\n",
       "      <td>Northern</td>\n",
       "    </tr>\n",
       "    <tr>\n",
       "      <th>78</th>\n",
       "      <td>Medford</td>\n",
       "      <td>US</td>\n",
       "      <td>42.33</td>\n",
       "      <td>-122.88</td>\n",
       "      <td>81.43</td>\n",
       "      <td>18</td>\n",
       "      <td>1</td>\n",
       "      <td>5.82</td>\n",
       "      <td>Northern</td>\n",
       "    </tr>\n",
       "    <tr>\n",
       "      <th>84</th>\n",
       "      <td>Mendenhall Springs</td>\n",
       "      <td>US</td>\n",
       "      <td>37.59</td>\n",
       "      <td>-121.65</td>\n",
       "      <td>88.81</td>\n",
       "      <td>10</td>\n",
       "      <td>1</td>\n",
       "      <td>4.70</td>\n",
       "      <td>Northern</td>\n",
       "    </tr>\n",
       "  </tbody>\n",
       "</table>\n",
       "</div>"
      ],
      "text/plain": [
       "                  City Country    Lat     Lng  Temperature (F)  Humidity  \\\n",
       "25             Zhenkou      CN  27.40  116.34            77.22        87   \n",
       "27         Jaykaynagar      IN  23.68   86.98            81.97        74   \n",
       "60  Wakīl Rustam Kêlay      AF  31.45   65.29            71.60        26   \n",
       "78             Medford      US  42.33 -122.88            81.43        18   \n",
       "84  Mendenhall Springs      US  37.59 -121.65            88.81        10   \n",
       "\n",
       "    Cloudiness  Wind Speed Hemisphere  \n",
       "25           3        6.82   Northern  \n",
       "27           0        8.12   Northern  \n",
       "60           1        3.36   Northern  \n",
       "78           1        5.82   Northern  \n",
       "84           1        4.70   Northern  "
      ]
     },
     "execution_count": 49,
     "metadata": {},
     "output_type": "execute_result"
    }
   ],
   "source": [
    "# select ideal locations\n",
    "def select_location(temperature_low:float, temperature_high:float,wind_speed:float, cloud:float, dataset:pd.core.frame.DataFrame):\n",
    "    select_data = dataset.loc[(dataset[\"Temperature (F)\"]>temperature_low)&(dataset[\"Temperature (F)\"]<temperature_high)\n",
    "                & (dataset[\"Wind Speed\"]<wind_speed) &(dataset[\"Cloudiness\"]<cloud),]\n",
    "    return select_data\n",
    "\n",
    "vacation_data = select_location(70, 90,10, 5, weather_df)\n",
    "vacation_data.head()"
   ]
  },
  {
   "cell_type": "code",
   "execution_count": 77,
   "metadata": {},
   "outputs": [
    {
     "data": {
      "application/vnd.jupyter.widget-view+json": {
       "model_id": "ca0c65511c49492db1b4e1fdfb102b14",
       "version_major": 2,
       "version_minor": 0
      },
      "text/plain": [
       "Figure(layout=FigureLayout(height='420px'))"
      ]
     },
     "metadata": {},
     "output_type": "display_data"
    }
   ],
   "source": [
    "# add marker\n",
    "coord = [(row[2],row[3]) for index, row in vacation_data.iterrows()]\n",
    "info_text = [f\"City: {row[0]} <br> Country: {row[1]}\" for index, row in vacation_data.iterrows()]\n",
    "\n",
    "gmaps.configure(api_key=gkey)\n",
    "marker = gmaps.marker_layer(coord, info_box_content=info_text)\n",
    "fig.add_layer(marker)\n",
    "fig.add_layer(hummid_layer)\n",
    "fig"
   ]
  }
 ],
 "metadata": {
  "kernelspec": {
   "display_name": "Python [conda env:gmaps]",
   "language": "python",
   "name": "conda-env-gmaps-py"
  },
  "language_info": {
   "codemirror_mode": {
    "name": "ipython",
    "version": 3
   },
   "file_extension": ".py",
   "mimetype": "text/x-python",
   "name": "python",
   "nbconvert_exporter": "python",
   "pygments_lexer": "ipython3",
   "version": "3.6.10"
  }
 },
 "nbformat": 4,
 "nbformat_minor": 4
}
